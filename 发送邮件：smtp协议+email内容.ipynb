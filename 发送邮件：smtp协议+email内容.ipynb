{
 "cells": [
  {
   "cell_type": "code",
   "execution_count": 8,
   "metadata": {},
   "outputs": [],
   "source": [
    "import smtplib\n",
    "from email.mime.text import MIMEText\n",
    "from email.utils import formataddr"
   ]
  },
  {
   "cell_type": "code",
   "execution_count": 18,
   "metadata": {},
   "outputs": [
    {
     "name": "stdout",
     "output_type": "stream",
     "text": [
      "Content-Type: text/html; charset=\"utf-8\"\n",
      "MIME-Version: 1.0\n",
      "Content-Transfer-Encoding: base64\n",
      "From: a <851575598@qq.com>\n",
      "To: a <851575598@qq.com>\n",
      "Subject: =?utf-8?b?6I+c6bif5pWZ56iL5Y+R6YCB6YKu5Lu25rWL6K+V?=\n",
      "\n",
      "CjxwPlB5dGhvbiDpgq7ku7blj5HpgIHmtYvor5UuLi48L3A+CjxwPjxhIGhyZWY9Imh0dHA6Ly93\n",
      "d3cucnVub29iLmNvbSI+6I+c6bif5pWZ56iL6ZO+5o6lPC9hPjwvcD4KPHA+5Zu+54mH5ryU56S6\n",
      "77yaPC9wPgo8cD48aW1nIHNyYz0iY2lkOmltYWdlMSI+PC9wPgo=\n",
      "\n",
      "Content-Type: text/html; charset=\"utf-8\"\n",
      "MIME-Version: 1.0\n",
      "Content-Transfer-Encoding: base64\n",
      "From: a <851575598@qq.com>\n",
      "To: a <851575598@qq.com>\n",
      "Subject: =?utf-8?b?6I+c6bif5pWZ56iL5Y+R6YCB6YKu5Lu25rWL6K+V?=\n",
      "\n",
      "CjxwPlB5dGhvbiDpgq7ku7blj5HpgIHmtYvor5UuLi48L3A+CjxwPjxhIGhyZWY9Imh0dHA6Ly93\n",
      "d3cucnVub29iLmNvbSI+6I+c6bif5pWZ56iL6ZO+5o6lPC9hPjwvcD4KPHA+5Zu+54mH5ryU56S6\n",
      "77yaPC9wPgo8cD48aW1nIHNyYz0iY2lkOmltYWdlMSI+PC9wPgo=\n",
      "\n",
      "邮件发送成功\n"
     ]
    }
   ],
   "source": [
    "my_sender='851575598@qq.com'    # 发件人邮箱账号\n",
    "my_pass = 'fxcnfpgydgczbgae'              # 发件人邮箱密码\n",
    "my_user='851575598@qq.com'      # 收件人邮箱账号，我这边发送给自己\n",
    "mail_msg = \"\"\"\n",
    "<p>Python 邮件发送测试...</p>\n",
    "<p><a href=\"http://www.runoob.com\">菜鸟教程链接</a></p>\n",
    "<p>图片演示：</p>\n",
    "<p><img src=\"cid:image1\"></p>\n",
    "\"\"\"\n",
    "def mail():\n",
    "    ret=True\n",
    "    try:\n",
    "        msg=MIMEText(mail_msg,'html','utf-8')\n",
    "        msg['From']=formataddr([\"a\",my_sender])  # 括号里的对应发件人邮箱昵称、发件人邮箱账号\n",
    "        msg['To']=formataddr([\"a\",my_user])              # 括号里的对应收件人邮箱昵称、收件人邮箱账号\n",
    "        msg['Subject']=\"菜鸟教程发送邮件测试\"                # 邮件的主题，也可以说是标题\n",
    "        \n",
    "        print(msg)\n",
    "        \n",
    "        server=smtplib.SMTP_SSL(\"smtp.qq.com\", 465)  # 发件人邮箱中的SMTP服务器，端口是25\n",
    "        server.login(my_sender, my_pass)  # 括号中对应的是发件人邮箱账号、邮箱密码\n",
    "        server.sendmail(my_sender,[my_user,],msg.as_string())  # 括号中对应的是发件人邮箱账号、收件人邮箱账号、发送邮件\n",
    "        server.quit()  # 关闭连接\n",
    "        print(msg.as_string())\n",
    "        \n",
    "    except Exception:  # 如果 try 中的语句没有执行，则会执行下面的 ret=False\n",
    "        ret=False\n",
    "    return ret\n",
    " \n",
    "ret=mail()\n",
    "if ret:\n",
    "    print(\"邮件发送成功\")\n",
    "else:\n",
    "    print(\"邮件发送失败\")"
   ]
  },
  {
   "cell_type": "code",
   "execution_count": 12,
   "metadata": {},
   "outputs": [
    {
     "name": "stdout",
     "output_type": "stream",
     "text": [
      "Error: 无法发送邮件\n"
     ]
    }
   ],
   "source": [
    "import smtplib\n",
    "from email.mime.text import MIMEText\n",
    "from email.header import Header\n",
    " \n",
    "# 第三方 SMTP 服务\n",
    "mail_host=\"smtp.qq.com\"  #设置服务器\n",
    "mail_user=\"851575598@qq.com\"    #用户名\n",
    "mail_pass=\"fxcnfpgydgczbgae\"   #口令 \n",
    " \n",
    "sender = '851575598@qq.com'\n",
    "receivers = ['851575598@qq.com']  # 接收邮件，可设置为你的QQ邮箱或者其他邮箱\n",
    " \n",
    "message = MIMEText('Python 邮件发送测试...', 'plain', 'utf-8')\n",
    "message['From'] = Header(\"菜鸟教程\", 'utf-8')\n",
    "message['To'] =  Header(\"测试\", 'utf-8')\n",
    " \n",
    "subject = 'Python SMTP 邮件测试'\n",
    "message['Subject'] = Header(subject, 'utf-8')\n",
    " \n",
    " \n",
    "try:\n",
    "    smtpObj = smtplib.SMTP() \n",
    "    smtpObj.connect(mail_host, 465)    # 25 为 SMTP 端口号\n",
    "    smtpObj.login(mail_user,mail_pass)  \n",
    "    smtpObj.sendmail(sender, receivers, message.as_string())\n",
    "    print (\"邮件发送成功\")\n",
    "except smtplib.SMTPException:\n",
    "    print (\"Error: 无法发送邮件\")"
   ]
  },
  {
   "cell_type": "code",
   "execution_count": 1,
   "metadata": {},
   "outputs": [
    {
     "ename": "ModuleNotFoundError",
     "evalue": "No module named 'uinout'",
     "output_type": "error",
     "traceback": [
      "\u001b[1;31m---------------------------------------------------------------------------\u001b[0m",
      "\u001b[1;31mModuleNotFoundError\u001b[0m                       Traceback (most recent call last)",
      "\u001b[1;32m<ipython-input-1-047c8780c245>\u001b[0m in \u001b[0;36m<module>\u001b[1;34m\u001b[0m\n\u001b[1;32m----> 1\u001b[1;33m \u001b[1;32mimport\u001b[0m \u001b[0muinout\u001b[0m\u001b[1;33m\u001b[0m\u001b[1;33m\u001b[0m\u001b[0m\n\u001b[0m",
      "\u001b[1;31mModuleNotFoundError\u001b[0m: No module named 'uinout'"
     ]
    }
   ],
   "source": [
    "import uinout"
   ]
  },
  {
   "cell_type": "code",
   "execution_count": null,
   "metadata": {},
   "outputs": [],
   "source": []
  }
 ],
 "metadata": {
  "kernelspec": {
   "display_name": "Python 3",
   "language": "python",
   "name": "python3"
  },
  "language_info": {
   "codemirror_mode": {
    "name": "ipython",
    "version": 3
   },
   "file_extension": ".py",
   "mimetype": "text/x-python",
   "name": "python",
   "nbconvert_exporter": "python",
   "pygments_lexer": "ipython3",
   "version": "3.7.7"
  }
 },
 "nbformat": 4,
 "nbformat_minor": 4
}
